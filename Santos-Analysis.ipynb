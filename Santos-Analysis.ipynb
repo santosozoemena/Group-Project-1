{
 "cells": [
  {
   "cell_type": "code",
   "execution_count": 23,
   "metadata": {},
   "outputs": [],
   "source": [
    "import pandas as pd\n",
    "import matplotlib.pyplot as plt\n",
    "import seaborn as sns\n",
    "import numpy as np\n",
    "import tweepy\n",
    "from tweepy.parsers import JSONParser\n",
    "from datetime import datetime\n",
    "from yahoo_finance import Share\n",
    "import sys\n",
    "import requests as rq\n",
    "import json"
   ]
  },
  {
   "cell_type": "code",
   "execution_count": 2,
   "metadata": {},
   "outputs": [
    {
     "data": {
      "text/html": [
       "<div>\n",
       "<style>\n",
       "    .dataframe thead tr:only-child th {\n",
       "        text-align: right;\n",
       "    }\n",
       "\n",
       "    .dataframe thead th {\n",
       "        text-align: left;\n",
       "    }\n",
       "\n",
       "    .dataframe tbody tr th {\n",
       "        vertical-align: top;\n",
       "    }\n",
       "</style>\n",
       "<table border=\"1\" class=\"dataframe\">\n",
       "  <thead>\n",
       "    <tr style=\"text-align: right;\">\n",
       "      <th></th>\n",
       "      <th>Unnamed: 0</th>\n",
       "      <th>Unnamed: 0.1</th>\n",
       "      <th>Restaurant Names</th>\n",
       "      <th>User Name</th>\n",
       "      <th>Follower Count</th>\n",
       "      <th>LA Sentiment</th>\n",
       "      <th>New York Sentiment</th>\n",
       "      <th>Houston Sentiment</th>\n",
       "      <th>San Francisco Sentiment</th>\n",
       "      <th>Orlando Sentiment</th>\n",
       "    </tr>\n",
       "  </thead>\n",
       "  <tbody>\n",
       "    <tr>\n",
       "      <th>0</th>\n",
       "      <td>0</td>\n",
       "      <td>0</td>\n",
       "      <td>Red Lobster</td>\n",
       "      <td>redlobster</td>\n",
       "      <td>296664</td>\n",
       "      <td>0.119173</td>\n",
       "      <td>0.165480</td>\n",
       "      <td>0.165526666667</td>\n",
       "      <td>0.0414230769231</td>\n",
       "      <td>0.28401</td>\n",
       "    </tr>\n",
       "    <tr>\n",
       "      <th>1</th>\n",
       "      <td>1</td>\n",
       "      <td>1</td>\n",
       "      <td>SUBWAY®Restaurants</td>\n",
       "      <td>SUBWAY</td>\n",
       "      <td>2467427</td>\n",
       "      <td>0.093708</td>\n",
       "      <td>0.045293</td>\n",
       "      <td>0.247506666667</td>\n",
       "      <td>0.127289285714</td>\n",
       "      <td>0.019772</td>\n",
       "    </tr>\n",
       "    <tr>\n",
       "      <th>2</th>\n",
       "      <td>2</td>\n",
       "      <td>2</td>\n",
       "      <td>Eatalian Cafe</td>\n",
       "      <td>EATALIANCAFE</td>\n",
       "      <td>158</td>\n",
       "      <td>NaN</td>\n",
       "      <td>NaN</td>\n",
       "      <td></td>\n",
       "      <td></td>\n",
       "      <td></td>\n",
       "    </tr>\n",
       "    <tr>\n",
       "      <th>3</th>\n",
       "      <td>3</td>\n",
       "      <td>3</td>\n",
       "      <td>In-N-Out Burger</td>\n",
       "      <td>innoutburger</td>\n",
       "      <td>44775</td>\n",
       "      <td>0.090203</td>\n",
       "      <td>0.158602</td>\n",
       "      <td>0.251908108108</td>\n",
       "      <td>0.116444186047</td>\n",
       "      <td>0.0339185185185</td>\n",
       "    </tr>\n",
       "    <tr>\n",
       "      <th>4</th>\n",
       "      <td>4</td>\n",
       "      <td>4</td>\n",
       "      <td>Hustler Casino</td>\n",
       "      <td>HUSTLERCASINOLA</td>\n",
       "      <td>2895</td>\n",
       "      <td>0.112589</td>\n",
       "      <td>NaN</td>\n",
       "      <td></td>\n",
       "      <td></td>\n",
       "      <td></td>\n",
       "    </tr>\n",
       "    <tr>\n",
       "      <th>5</th>\n",
       "      <td>5</td>\n",
       "      <td>5</td>\n",
       "      <td>Roscoe's House of Chicken and Waffles</td>\n",
       "      <td>roscoesofficial</td>\n",
       "      <td>30909</td>\n",
       "      <td>0.124109</td>\n",
       "      <td>0.163340</td>\n",
       "      <td></td>\n",
       "      <td>0.113797727273</td>\n",
       "      <td></td>\n",
       "    </tr>\n",
       "    <tr>\n",
       "      <th>6</th>\n",
       "      <td>6</td>\n",
       "      <td>6</td>\n",
       "      <td>Little Caesars Pizza</td>\n",
       "      <td>littlecaesars</td>\n",
       "      <td>232112</td>\n",
       "      <td>0.131415</td>\n",
       "      <td>0.155874</td>\n",
       "      <td>0.209382692308</td>\n",
       "      <td>0.10885</td>\n",
       "      <td>0.113223076923</td>\n",
       "    </tr>\n",
       "    <tr>\n",
       "      <th>7</th>\n",
       "      <td>7</td>\n",
       "      <td>7</td>\n",
       "      <td>The Bicycle Hotel &amp; Casino</td>\n",
       "      <td>BicycleCasino</td>\n",
       "      <td>9333</td>\n",
       "      <td>0.124884</td>\n",
       "      <td>NaN</td>\n",
       "      <td></td>\n",
       "      <td></td>\n",
       "      <td></td>\n",
       "    </tr>\n",
       "    <tr>\n",
       "      <th>8</th>\n",
       "      <td>8</td>\n",
       "      <td>8</td>\n",
       "      <td>Chili's Grill &amp; Bar</td>\n",
       "      <td>Chilis</td>\n",
       "      <td>383907</td>\n",
       "      <td>0.103989</td>\n",
       "      <td>0.168120</td>\n",
       "      <td>0.155562686567</td>\n",
       "      <td>0.153219672131</td>\n",
       "      <td>0.124233333333</td>\n",
       "    </tr>\n",
       "    <tr>\n",
       "      <th>9</th>\n",
       "      <td>9</td>\n",
       "      <td>9</td>\n",
       "      <td>Fatburger</td>\n",
       "      <td>Fatburger</td>\n",
       "      <td>14993</td>\n",
       "      <td>0.117890</td>\n",
       "      <td>0.172014</td>\n",
       "      <td>0.164108695652</td>\n",
       "      <td>0.15949516129</td>\n",
       "      <td></td>\n",
       "    </tr>\n",
       "    <tr>\n",
       "      <th>10</th>\n",
       "      <td>10</td>\n",
       "      <td>10</td>\n",
       "      <td>Wingstop</td>\n",
       "      <td>wingstop</td>\n",
       "      <td>208253</td>\n",
       "      <td>0.086596</td>\n",
       "      <td>0.081114</td>\n",
       "      <td>0.137117857143</td>\n",
       "      <td>0.144232467532</td>\n",
       "      <td>0.0800942028986</td>\n",
       "    </tr>\n",
       "    <tr>\n",
       "      <th>11</th>\n",
       "      <td>11</td>\n",
       "      <td>11</td>\n",
       "      <td>Chuck E. Cheese's</td>\n",
       "      <td>ChuckECheeses</td>\n",
       "      <td>23749</td>\n",
       "      <td>0.100393</td>\n",
       "      <td>0.104792</td>\n",
       "      <td>0.129124705882</td>\n",
       "      <td>0.171303571429</td>\n",
       "      <td>0.0826297297297</td>\n",
       "    </tr>\n",
       "    <tr>\n",
       "      <th>12</th>\n",
       "      <td>12</td>\n",
       "      <td>12</td>\n",
       "      <td>TGI Fridays</td>\n",
       "      <td>TGIFridays</td>\n",
       "      <td>208950</td>\n",
       "      <td>0.100789</td>\n",
       "      <td>0.115258</td>\n",
       "      <td>0.138593406593</td>\n",
       "      <td>0.165741758242</td>\n",
       "      <td>0.104425842697</td>\n",
       "    </tr>\n",
       "    <tr>\n",
       "      <th>13</th>\n",
       "      <td>13</td>\n",
       "      <td>13</td>\n",
       "      <td>Bossa Nova</td>\n",
       "      <td>Bossanovaeats</td>\n",
       "      <td>2321</td>\n",
       "      <td>0.110683</td>\n",
       "      <td>NaN</td>\n",
       "      <td></td>\n",
       "      <td></td>\n",
       "      <td></td>\n",
       "    </tr>\n",
       "    <tr>\n",
       "      <th>14</th>\n",
       "      <td>14</td>\n",
       "      <td>14</td>\n",
       "      <td>Benihana</td>\n",
       "      <td>Benihana</td>\n",
       "      <td>13086</td>\n",
       "      <td>0.091443</td>\n",
       "      <td>0.109758</td>\n",
       "      <td>0.136589622642</td>\n",
       "      <td>0.149990566038</td>\n",
       "      <td>0.0966418367347</td>\n",
       "    </tr>\n",
       "    <tr>\n",
       "      <th>15</th>\n",
       "      <td>15</td>\n",
       "      <td>15</td>\n",
       "      <td>Olive Garden</td>\n",
       "      <td>olivegarden</td>\n",
       "      <td>385774</td>\n",
       "      <td>0.073344</td>\n",
       "      <td>0.110196</td>\n",
       "      <td>0.131234710744</td>\n",
       "      <td>0.147251724138</td>\n",
       "      <td>0.135784070796</td>\n",
       "    </tr>\n",
       "    <tr>\n",
       "      <th>16</th>\n",
       "      <td>16</td>\n",
       "      <td>16</td>\n",
       "      <td>Taco Bell</td>\n",
       "      <td>tacobell</td>\n",
       "      <td>1888502</td>\n",
       "      <td>0.077948</td>\n",
       "      <td>0.104617</td>\n",
       "      <td>0.0989676470588</td>\n",
       "      <td>0.149825954198</td>\n",
       "      <td>0.1400140625</td>\n",
       "    </tr>\n",
       "    <tr>\n",
       "      <th>17</th>\n",
       "      <td>17</td>\n",
       "      <td>17</td>\n",
       "      <td>Jack Box</td>\n",
       "      <td>JackBox</td>\n",
       "      <td>91621</td>\n",
       "      <td>0.073334</td>\n",
       "      <td>0.110296</td>\n",
       "      <td>0.102023178808</td>\n",
       "      <td>0.164996575342</td>\n",
       "      <td>0.157128873239</td>\n",
       "    </tr>\n",
       "    <tr>\n",
       "      <th>18</th>\n",
       "      <td>18</td>\n",
       "      <td>18</td>\n",
       "      <td>Wendy's</td>\n",
       "      <td>Wendys</td>\n",
       "      <td>2288957</td>\n",
       "      <td>0.069417</td>\n",
       "      <td>0.113820</td>\n",
       "      <td>0.102662650602</td>\n",
       "      <td>0.178944720497</td>\n",
       "      <td>0.130388535032</td>\n",
       "    </tr>\n",
       "    <tr>\n",
       "      <th>19</th>\n",
       "      <td>19</td>\n",
       "      <td>19</td>\n",
       "      <td>McDonald's</td>\n",
       "      <td>McDonalds</td>\n",
       "      <td>3540391</td>\n",
       "      <td>0.063202</td>\n",
       "      <td>0.128534</td>\n",
       "      <td>0.0778900552486</td>\n",
       "      <td>0.233472727273</td>\n",
       "      <td>0.126127272727</td>\n",
       "    </tr>\n",
       "    <tr>\n",
       "      <th>20</th>\n",
       "      <td>20</td>\n",
       "      <td>20</td>\n",
       "      <td>Popeyes Chicken</td>\n",
       "      <td>PopeyesChicken</td>\n",
       "      <td>92760</td>\n",
       "      <td>0.067104</td>\n",
       "      <td>0.118466</td>\n",
       "      <td>0.0920178571429</td>\n",
       "      <td>0.228915591398</td>\n",
       "      <td>0.119126704545</td>\n",
       "    </tr>\n",
       "    <tr>\n",
       "      <th>21</th>\n",
       "      <td>21</td>\n",
       "      <td>21</td>\n",
       "      <td>Panera Bread</td>\n",
       "      <td>askpanera</td>\n",
       "      <td>563</td>\n",
       "      <td>0.065941</td>\n",
       "      <td>0.116012</td>\n",
       "      <td></td>\n",
       "      <td></td>\n",
       "      <td>0.118130508475</td>\n",
       "    </tr>\n",
       "    <tr>\n",
       "      <th>22</th>\n",
       "      <td>22</td>\n",
       "      <td>22</td>\n",
       "      <td>Starbucks</td>\n",
       "      <td>Starbucks</td>\n",
       "      <td>11942459</td>\n",
       "      <td>0.064788</td>\n",
       "      <td>0.116074</td>\n",
       "      <td>0.0975545023697</td>\n",
       "      <td>0.228896907216</td>\n",
       "      <td>0.11902962963</td>\n",
       "    </tr>\n",
       "    <tr>\n",
       "      <th>23</th>\n",
       "      <td>23</td>\n",
       "      <td>23</td>\n",
       "      <td>Burger King</td>\n",
       "      <td>BurgerKing</td>\n",
       "      <td>1591887</td>\n",
       "      <td>0.069880</td>\n",
       "      <td>0.095617</td>\n",
       "      <td>0.0803584070796</td>\n",
       "      <td>0.214129665072</td>\n",
       "      <td>0.109119117647</td>\n",
       "    </tr>\n",
       "    <tr>\n",
       "      <th>24</th>\n",
       "      <td>24</td>\n",
       "      <td>24</td>\n",
       "      <td>Applebee's</td>\n",
       "      <td>Applebees</td>\n",
       "      <td>627246</td>\n",
       "      <td>0.083330</td>\n",
       "      <td>0.100132</td>\n",
       "      <td>0.0956439834025</td>\n",
       "      <td>0.207404910714</td>\n",
       "      <td>0.11533196347</td>\n",
       "    </tr>\n",
       "  </tbody>\n",
       "</table>\n",
       "</div>"
      ],
      "text/plain": [
       "    Unnamed: 0  Unnamed: 0.1                       Restaurant Names  \\\n",
       "0            0             0                            Red Lobster   \n",
       "1            1             1                     SUBWAY®Restaurants   \n",
       "2            2             2                          Eatalian Cafe   \n",
       "3            3             3                        In-N-Out Burger   \n",
       "4            4             4                         Hustler Casino   \n",
       "5            5             5  Roscoe's House of Chicken and Waffles   \n",
       "6            6             6                   Little Caesars Pizza   \n",
       "7            7             7             The Bicycle Hotel & Casino   \n",
       "8            8             8                    Chili's Grill & Bar   \n",
       "9            9             9                              Fatburger   \n",
       "10          10            10                               Wingstop   \n",
       "11          11            11                      Chuck E. Cheese's   \n",
       "12          12            12                            TGI Fridays   \n",
       "13          13            13                             Bossa Nova   \n",
       "14          14            14                               Benihana   \n",
       "15          15            15                           Olive Garden   \n",
       "16          16            16                              Taco Bell   \n",
       "17          17            17                               Jack Box   \n",
       "18          18            18                                Wendy's   \n",
       "19          19            19                             McDonald's   \n",
       "20          20            20                        Popeyes Chicken   \n",
       "21          21            21                           Panera Bread   \n",
       "22          22            22                              Starbucks   \n",
       "23          23            23                            Burger King   \n",
       "24          24            24                             Applebee's   \n",
       "\n",
       "          User Name  Follower Count  LA Sentiment  New York Sentiment  \\\n",
       "0        redlobster          296664      0.119173            0.165480   \n",
       "1            SUBWAY         2467427      0.093708            0.045293   \n",
       "2      EATALIANCAFE             158           NaN                 NaN   \n",
       "3      innoutburger           44775      0.090203            0.158602   \n",
       "4   HUSTLERCASINOLA            2895      0.112589                 NaN   \n",
       "5   roscoesofficial           30909      0.124109            0.163340   \n",
       "6     littlecaesars          232112      0.131415            0.155874   \n",
       "7     BicycleCasino            9333      0.124884                 NaN   \n",
       "8            Chilis          383907      0.103989            0.168120   \n",
       "9         Fatburger           14993      0.117890            0.172014   \n",
       "10         wingstop          208253      0.086596            0.081114   \n",
       "11    ChuckECheeses           23749      0.100393            0.104792   \n",
       "12       TGIFridays          208950      0.100789            0.115258   \n",
       "13    Bossanovaeats            2321      0.110683                 NaN   \n",
       "14         Benihana           13086      0.091443            0.109758   \n",
       "15      olivegarden          385774      0.073344            0.110196   \n",
       "16         tacobell         1888502      0.077948            0.104617   \n",
       "17          JackBox           91621      0.073334            0.110296   \n",
       "18           Wendys         2288957      0.069417            0.113820   \n",
       "19        McDonalds         3540391      0.063202            0.128534   \n",
       "20   PopeyesChicken           92760      0.067104            0.118466   \n",
       "21        askpanera             563      0.065941            0.116012   \n",
       "22        Starbucks        11942459      0.064788            0.116074   \n",
       "23       BurgerKing         1591887      0.069880            0.095617   \n",
       "24        Applebees          627246      0.083330            0.100132   \n",
       "\n",
       "   Houston Sentiment San Francisco Sentiment Orlando Sentiment  \n",
       "0     0.165526666667         0.0414230769231           0.28401  \n",
       "1     0.247506666667          0.127289285714          0.019772  \n",
       "2                                                               \n",
       "3     0.251908108108          0.116444186047   0.0339185185185  \n",
       "4                                                               \n",
       "5                             0.113797727273                    \n",
       "6     0.209382692308                 0.10885    0.113223076923  \n",
       "7                                                               \n",
       "8     0.155562686567          0.153219672131    0.124233333333  \n",
       "9     0.164108695652           0.15949516129                    \n",
       "10    0.137117857143          0.144232467532   0.0800942028986  \n",
       "11    0.129124705882          0.171303571429   0.0826297297297  \n",
       "12    0.138593406593          0.165741758242    0.104425842697  \n",
       "13                                                              \n",
       "14    0.136589622642          0.149990566038   0.0966418367347  \n",
       "15    0.131234710744          0.147251724138    0.135784070796  \n",
       "16   0.0989676470588          0.149825954198      0.1400140625  \n",
       "17    0.102023178808          0.164996575342    0.157128873239  \n",
       "18    0.102662650602          0.178944720497    0.130388535032  \n",
       "19   0.0778900552486          0.233472727273    0.126127272727  \n",
       "20   0.0920178571429          0.228915591398    0.119126704545  \n",
       "21                                              0.118130508475  \n",
       "22   0.0975545023697          0.228896907216     0.11902962963  \n",
       "23   0.0803584070796          0.214129665072    0.109119117647  \n",
       "24   0.0956439834025          0.207404910714     0.11533196347  "
      ]
     },
     "execution_count": 2,
     "metadata": {},
     "output_type": "execute_result"
    }
   ],
   "source": [
    "df = pd.read_csv(\"twiter_sentiment.csv\", encoding =  'latin1')\n",
    "df"
   ]
  },
  {
   "cell_type": "code",
   "execution_count": 3,
   "metadata": {},
   "outputs": [
    {
     "data": {
      "text/plain": [
       "Unnamed: 0                   int64\n",
       "Unnamed: 0.1                 int64\n",
       "Restaurant Names            object\n",
       "User Name                   object\n",
       "Follower Count               int64\n",
       "LA Sentiment               float64\n",
       "New York Sentiment         float64\n",
       "Houston Sentiment           object\n",
       "San Francisco Sentiment     object\n",
       "Orlando Sentiment           object\n",
       "dtype: object"
      ]
     },
     "execution_count": 3,
     "metadata": {},
     "output_type": "execute_result"
    }
   ],
   "source": [
    "df.dtypes\n"
   ]
  },
  {
   "cell_type": "code",
   "execution_count": 90,
   "metadata": {},
   "outputs": [
    {
     "data": {
      "text/html": [
       "<div>\n",
       "<style>\n",
       "    .dataframe thead tr:only-child th {\n",
       "        text-align: right;\n",
       "    }\n",
       "\n",
       "    .dataframe thead th {\n",
       "        text-align: left;\n",
       "    }\n",
       "\n",
       "    .dataframe tbody tr th {\n",
       "        vertical-align: top;\n",
       "    }\n",
       "</style>\n",
       "<table border=\"1\" class=\"dataframe\">\n",
       "  <thead>\n",
       "    <tr style=\"text-align: right;\">\n",
       "      <th></th>\n",
       "      <th>Unnamed: 0</th>\n",
       "      <th>Unnamed: 0.1</th>\n",
       "      <th>Restaurant Names</th>\n",
       "      <th>User Name</th>\n",
       "      <th>Follower Count</th>\n",
       "      <th>LA Sentiment</th>\n",
       "      <th>New York Sentiment</th>\n",
       "      <th>Houston Sentiment</th>\n",
       "      <th>San Francisco Sentiment</th>\n",
       "      <th>Orlando Sentiment</th>\n",
       "    </tr>\n",
       "  </thead>\n",
       "  <tbody>\n",
       "    <tr>\n",
       "      <th>22</th>\n",
       "      <td>22</td>\n",
       "      <td>22</td>\n",
       "      <td>Starbucks</td>\n",
       "      <td>Starbucks</td>\n",
       "      <td>11942459</td>\n",
       "      <td>0.064788</td>\n",
       "      <td>0.116074</td>\n",
       "      <td>0.0975545023697</td>\n",
       "      <td>0.228896907216</td>\n",
       "      <td>0.11902962963</td>\n",
       "    </tr>\n",
       "    <tr>\n",
       "      <th>19</th>\n",
       "      <td>19</td>\n",
       "      <td>19</td>\n",
       "      <td>McDonald's</td>\n",
       "      <td>McDonalds</td>\n",
       "      <td>3540391</td>\n",
       "      <td>0.063202</td>\n",
       "      <td>0.128534</td>\n",
       "      <td>0.0778900552486</td>\n",
       "      <td>0.233472727273</td>\n",
       "      <td>0.126127272727</td>\n",
       "    </tr>\n",
       "    <tr>\n",
       "      <th>1</th>\n",
       "      <td>1</td>\n",
       "      <td>1</td>\n",
       "      <td>SUBWAY®Restaurants</td>\n",
       "      <td>SUBWAY</td>\n",
       "      <td>2467427</td>\n",
       "      <td>0.093708</td>\n",
       "      <td>0.045293</td>\n",
       "      <td>0.247506666667</td>\n",
       "      <td>0.127289285714</td>\n",
       "      <td>0.019772</td>\n",
       "    </tr>\n",
       "    <tr>\n",
       "      <th>18</th>\n",
       "      <td>18</td>\n",
       "      <td>18</td>\n",
       "      <td>Wendy's</td>\n",
       "      <td>Wendys</td>\n",
       "      <td>2288957</td>\n",
       "      <td>0.069417</td>\n",
       "      <td>0.113820</td>\n",
       "      <td>0.102662650602</td>\n",
       "      <td>0.178944720497</td>\n",
       "      <td>0.130388535032</td>\n",
       "    </tr>\n",
       "    <tr>\n",
       "      <th>16</th>\n",
       "      <td>16</td>\n",
       "      <td>16</td>\n",
       "      <td>Taco Bell</td>\n",
       "      <td>tacobell</td>\n",
       "      <td>1888502</td>\n",
       "      <td>0.077948</td>\n",
       "      <td>0.104617</td>\n",
       "      <td>0.0989676470588</td>\n",
       "      <td>0.149825954198</td>\n",
       "      <td>0.1400140625</td>\n",
       "    </tr>\n",
       "  </tbody>\n",
       "</table>\n",
       "</div>"
      ],
      "text/plain": [
       "    Unnamed: 0  Unnamed: 0.1    Restaurant Names  User Name  Follower Count  \\\n",
       "22          22            22           Starbucks  Starbucks        11942459   \n",
       "19          19            19          McDonald's  McDonalds         3540391   \n",
       "1            1             1  SUBWAY®Restaurants     SUBWAY         2467427   \n",
       "18          18            18             Wendy's     Wendys         2288957   \n",
       "16          16            16           Taco Bell   tacobell         1888502   \n",
       "\n",
       "    LA Sentiment  New York Sentiment Houston Sentiment  \\\n",
       "22      0.064788            0.116074   0.0975545023697   \n",
       "19      0.063202            0.128534   0.0778900552486   \n",
       "1       0.093708            0.045293    0.247506666667   \n",
       "18      0.069417            0.113820    0.102662650602   \n",
       "16      0.077948            0.104617   0.0989676470588   \n",
       "\n",
       "   San Francisco Sentiment Orlando Sentiment  \n",
       "22          0.228896907216     0.11902962963  \n",
       "19          0.233472727273    0.126127272727  \n",
       "1           0.127289285714          0.019772  \n",
       "18          0.178944720497    0.130388535032  \n",
       "16          0.149825954198      0.1400140625  "
      ]
     },
     "execution_count": 90,
     "metadata": {},
     "output_type": "execute_result"
    }
   ],
   "source": [
    "top5 = df.sort_values(by = \"Follower Count\", ascending = False).head()\n",
    "top5"
   ]
  },
  {
   "cell_type": "code",
   "execution_count": 3,
   "metadata": {
    "collapsed": true
   },
   "outputs": [],
   "source": [
    "Consumer_Key = \"FSfjjE3eU8euI2t2VUJGh009v\"\n",
    "Consumer_Secret = \"B4NEEiXmBOnmJyHS5zo7VxbbMFvjw9DbglolN9c3Nj9ObQYZKU\"\n",
    "Access_Token = \"942094172969828352-WCe9ZgRKy30MKWLFYfeWUtzJCCDft7G\"\n",
    "Access_Token_Secret = \"XHab1ABIUXKIW2SQrWtH48HImrOHxKqfdwUxRbmUFvylm\"\n"
   ]
  },
  {
   "cell_type": "code",
   "execution_count": 4,
   "metadata": {
    "collapsed": true
   },
   "outputs": [],
   "source": [
    "auth = tweepy.OAuthHandler(Consumer_Key, Consumer_Secret)\n",
    "auth.set_access_token(Access_Token, Access_Token_Secret)\n",
    "\n",
    "api = tweepy.API(auth, parser = JSONParser())"
   ]
  },
  {
   "cell_type": "code",
   "execution_count": 7,
   "metadata": {
    "collapsed": true,
    "scrolled": false
   },
   "outputs": [],
   "source": [
    "#target_user = \"realdonaldtrump\"\n",
    "\n",
    "# Create array to record all date-times of tweets\n",
    "# target users\n",
    "top5List = {\n",
    "    \"Starbucks\": [],\n",
    "    \"McDonalds\" : [],\n",
    "    \"Subway\" : [],\n",
    "    \"Wendys\" : [],\n",
    "    \"Taco Bell\" : []\n",
    "}\n",
    "\n",
    "# loop through 500 tweets\n",
    "for page in range(5): # 20 x 25 = 500 tweets\n",
    "    # get all tweets\n",
    "    for user in top5List:\n",
    "        public_tweets = api.user_timeline(user, page = page, parser=JSONParser())\n",
    "        # loop throug all tweets\n",
    "        for tweet in public_tweets:\n",
    "            top5List[user].append(tweet[\"created_at\"])\n"
   ]
  },
  {
   "cell_type": "code",
   "execution_count": 17,
   "metadata": {
    "collapsed": true
   },
   "outputs": [],
   "source": [
    "# # function to convert list of strings to datetime objects\n",
    "# def convertDates(dataList):\n",
    "#     dates_list = [datetime.strptime(date,\"%a %b %d %H:%M:%S %z %Y\").date() for date in dataList]\n",
    "#     return dates_list\n",
    "\n",
    "# # datetime.strptime(tweet_times[x], \"%a %b %d %H:%M:%S %z %Y\")\n",
    "# sub = convertDates(top5List[\"Subway\"])\n",
    "# sub[0]\n",
    "\n",
    "\n",
    "\n",
    "# Add each datetime object into the array\n",
    "def convertDates3(dataList):\n",
    "    tweet_time_objects = []\n",
    "\n",
    "\n",
    "    for x in range(len(dataList)):\n",
    "        tweet_datetime = datetime.strptime(dataList[x], \"%a %b %d %H:%M:%S %z %Y\")\n",
    "#     tweet_datetime = datetime.strptime(tweet_times[x], \"%a %b %d %H:%M:%S %z %Y\")\n",
    "\n",
    "        tweet_time_objects.append(tweet_datetime)\n",
    "    return tweet_time_objects\n",
    "\n",
    "    # Preview that datetimes are matching\n",
    "#         print(top5List[\"Subway\"][x])\n",
    "#         print(tweet_datetime)"
   ]
  },
  {
   "cell_type": "code",
   "execution_count": null,
   "metadata": {
    "collapsed": true
   },
   "outputs": [],
   "source": []
  },
  {
   "cell_type": "code",
   "execution_count": 18,
   "metadata": {},
   "outputs": [
    {
     "data": {
      "text/plain": [
       "datetime.datetime(2018, 1, 13, 19, 9, 58, tzinfo=datetime.timezone.utc)"
      ]
     },
     "execution_count": 18,
     "metadata": {},
     "output_type": "execute_result"
    }
   ],
   "source": [
    "# covert all lists to datetime\n",
    "subwayList = convertDates3(top5List[\"Subway\"])\n",
    "StarbucksList = convertDates3(top5List[\"Starbucks\"])\n",
    "McDonaldsList = convertDates3(top5List[\"McDonalds\"])\n",
    "WendysList = convertDates3(top5List[\"Wendys\"])\n",
    "Taco_BellList = convertDates3(top5List[\"Taco Bell\"])\n",
    "\n",
    "subwayList[0]"
   ]
  },
  {
   "cell_type": "code",
   "execution_count": 41,
   "metadata": {
    "collapsed": true
   },
   "outputs": [],
   "source": [
    "#for user in top5List:\n",
    "    #for x in range(len(user)):\n",
    "        #tweet_datetime = datetime.strptime(top5List[user][x], \"%a %b %d %H:%M:%S %z %Y\")\n",
    "        #top5List[user].append(tweet_datetime)\n"
   ]
  },
  {
   "cell_type": "code",
   "execution_count": 38,
   "metadata": {
    "collapsed": true
   },
   "outputs": [],
   "source": [
    "def Differences(dif_list):\n",
    "    list_rest2 = []\n",
    "\n",
    "    for x in range(len(dif_list)-1):\n",
    "        hrs_apart = ((dif_list[x] - dif_list[x+1]).seconds) / 3600\n",
    "        list_rest2.append(hrs_apart)\n",
    "    return list_rest2\n"
   ]
  },
  {
   "cell_type": "code",
   "execution_count": 40,
   "metadata": {
    "collapsed": true
   },
   "outputs": [],
   "source": [
    "subway_df = Differences(subwayList)\n",
    "Starbuck_df = Differences(StarbucksList)\n",
    "McDonalds_df = Differences(McDonaldsList)\n",
    "Wendys_df = Differences(WendysList)\n",
    "Taco_Bell = Differences(Taco_BellList)"
   ]
  },
  {
   "cell_type": "code",
   "execution_count": null,
   "metadata": {
    "collapsed": true
   },
   "outputs": [],
   "source": []
  },
  {
   "cell_type": "code",
   "execution_count": 19,
   "metadata": {
    "collapsed": true
   },
   "outputs": [],
   "source": [
    "list_rest = []\n",
    "for x in range(len(subwayList)-1):\n",
    "    hrs_apart = ((subwayList[x] - subwayList[x+1]).seconds) / 3600\n",
    "    list_rest.append(hrs_apart)\n",
    "\n",
    "#subwayList[2]-subwayList[3]"
   ]
  },
  {
   "cell_type": "code",
   "execution_count": null,
   "metadata": {
    "collapsed": true
   },
   "outputs": [],
   "source": []
  },
  {
   "cell_type": "code",
   "execution_count": 50,
   "metadata": {
    "collapsed": true
   },
   "outputs": [],
   "source": [
    "Subway = Differences(subwayList)\n",
    "Starbucks = Differences(StarbucksList)\n",
    "McDonalds = Differences(McDonaldsList)\n",
    "Wendys = Differences(WendysList)\n",
    "Taco_Bell = Differences(Taco_BellList)\n"
   ]
  },
  {
   "cell_type": "code",
   "execution_count": null,
   "metadata": {
    "collapsed": true
   },
   "outputs": [],
   "source": []
  },
  {
   "cell_type": "code",
   "execution_count": 97,
   "metadata": {},
   "outputs": [
    {
     "data": {
      "image/png": "[encoded data removed]",
      "text/plain": [
       "<matplotlib.figure.Figure at 0x1a17e605c0>"
      ]
     },
     "metadata": {},
     "output_type": "display_data"
    },
    {
     "data": {
      "image/png": "[encoded data removed]",
      "text/plain": [
       "<matplotlib.figure.Figure at 0x1a101bbe10>"
      ]
     },
     "metadata": {},
     "output_type": "display_data"
    },
    {
     "data": {
      "image/png": "[encoded data removed]",
      "text/plain": [
       "<matplotlib.figure.Figure at 0x1a18072278>"
      ]
     },
     "metadata": {},
     "output_type": "display_data"
    },
    {
     "data": {
      "image/png": "[encoded data removed]",
      "text/plain": [
       "<matplotlib.figure.Figure at 0x1a18026470>"
      ]
     },
     "metadata": {},
     "output_type": "display_data"
    },
    {
     "data": {
      "image/png": "[encoded data removed]",
      "text/plain": [
       "<matplotlib.figure.Figure at 0x1a1a5b39e8>"
      ]
     },
     "metadata": {},
     "output_type": "display_data"
    }
   ],
   "source": [
    "sns.set()\n",
    "plt.plot(range(len(Starbucks)), Starbucks, marker=\"o\",linewidth=0.25, alpha=0.8, color=\"r\")\n",
    "plt.xlim([0, len(Starbucks)])\n",
    "plt.ylabel(\"Hours Apart\")\n",
    "plt.xlabel(\"Tweets Ago\")\n",
    "plt.title(\"Starbucks Tweet Velocity - Follwer Count: 11,942,459\")\n",
    "plt.savefig('Starbucks.png')\n",
    "plt.show()\n",
    "\n",
    "\n",
    "plt.plot(range(len(McDonalds)), McDonalds, marker=\"o\",linewidth=0.25, alpha=0.8, color=\"b\")\n",
    "plt.xlim([0, len(McDonalds)])\n",
    "plt.ylabel(\"Hours Apart\")\n",
    "plt.xlabel(\"Tweets Ago\")\n",
    "plt.title(\"McDonalds Tweet Velocit - Follower Count: 3,540,391\")\n",
    "plt.savefig('McDonalds.png')\n",
    "plt.show()\n",
    "\n",
    "plt.plot(range(len(Subway)), Subway, marker=\"o\",linewidth=0.25, alpha=0.8, color=\"black\")\n",
    "plt.xlim([0, len(Subway)])\n",
    "plt.ylabel(\"Hours Apart\")\n",
    "plt.xlabel(\"Tweets Ago\")\n",
    "plt.title(\"Subway Tweet Velocity - Follower Count: 2,467,427\")\n",
    "plt.savefig('Subway.png')\n",
    "plt.show()\n",
    "\n",
    "plt.plot(range(len(Wendys)), Wendys, marker=\"o\",linewidth=0.25, alpha=0.8, color=\"green\")\n",
    "plt.xlim([0, len(Wendys)])\n",
    "plt.ylabel(\"Hours Apart\")\n",
    "plt.xlabel(\"Tweets Ago\")\n",
    "plt.title(\"Wendys Tweet Velocity - Follower Count: 2,288,957\")\n",
    "plt.savefig('Wendys.png')\n",
    "plt.show()\n",
    "\n",
    "plt.plot(range(len(Taco_Bell)), Taco_Bell, marker=\"o\",linewidth=0.25, alpha=0.8, color=\"brown\")\n",
    "plt.xlim([0, len(Taco_Bell)])\n",
    "plt.ylabel(\"Hours Apart\")\n",
    "plt.xlabel(\"Tweets Ago\")\n",
    "plt.title(\"Taco Bell Tweet Velocity - Follower Count:1,888,502\")\n",
    "plt.savefig('TacobBell.png')\n",
    "plt.show()"
   ]
  },
  {
   "cell_type": "code",
   "execution_count": 5,
   "metadata": {
    "collapsed": true
   },
   "outputs": [],
   "source": [
    "from vaderSentiment.vaderSentiment import SentimentIntensityAnalyzer\n",
    "analyzer = SentimentIntensityAnalyzer()\n"
   ]
  },
  {
   "cell_type": "code",
   "execution_count": 6,
   "metadata": {
    "collapsed": true
   },
   "outputs": [],
   "source": [
    "my_list = [\"Starbucks\", \"McDonalds\",\"Subway\", \"Wendys\", \"Taco Bell\"]"
   ]
  },
  {
   "cell_type": "code",
   "execution_count": 88,
   "metadata": {
    "collapsed": true,
    "scrolled": true
   },
   "outputs": [],
   "source": [
    "def converter(rest_name):\n",
    "    time_list3 = []\n",
    "    compound = []\n",
    "    for name in range(5):\n",
    "        mcd = api.search(rest_name, rpp=1000, count=1000)\n",
    "        for tweets in mcd['statuses']:\n",
    "            time_list3.append(tweets['created_at'])\n",
    "            tweet = tweets['text']\n",
    "            compound.append(analyzer.polarity_scores(tweet)[\"compound\"])\n",
    "    new_time_list = []\n",
    "    for x in time_list3:\n",
    "        time = datetime.strptime(x, \"%a %b %d %H:%M:%S %z %Y\")\n",
    "#     print(time)\n",
    "        new_time_list.append(time)\n",
    "    sns.set()\n",
    "    plt.plot(new_time_list, compound)\n",
    "    plt.gcf().autofmt_xdate()\n",
    "    plt.show()"
   ]
  },
  {
   "cell_type": "code",
   "execution_count": null,
   "metadata": {},
   "outputs": [],
   "source": []
  },
  {
   "cell_type": "code",
   "execution_count": 51,
   "metadata": {},
   "outputs": [
    {
     "ename": "TypeError",
     "evalue": "an integer is required (got type str)",
     "output_type": "error",
     "traceback": [
      "\u001b[0;31m---------------------------------------------------------------------------\u001b[0m",
      "\u001b[0;31mTypeError\u001b[0m                                 Traceback (most recent call last)",
      "\u001b[0;32m<ipython-input-51-d6664a5984a1>\u001b[0m in \u001b[0;36m<module>\u001b[0;34m()\u001b[0m\n\u001b[0;32m----> 1\u001b[0;31m \u001b[0mdatetime\u001b[0m\u001b[0;34m.\u001b[0m\u001b[0mfromtimestamp\u001b[0m\u001b[0;34m(\u001b[0m\u001b[0;34m\"2018/01/19\"\u001b[0m\u001b[0;34m)\u001b[0m\u001b[0;34m.\u001b[0m\u001b[0misoformat\u001b[0m\u001b[0;34m(\u001b[0m\u001b[0;34m)\u001b[0m\u001b[0;34m\u001b[0m\u001b[0m\n\u001b[0m",
      "\u001b[0;31mTypeError\u001b[0m: an integer is required (got type str)"
     ]
    }
   ],
   "source": [
    "datetime.fromtimestamp(\"2018/01/19\").isoformat()\n"
   ]
  },
  {
   "cell_type": "code",
   "execution_count": 129,
   "metadata": {
    "scrolled": false
   },
   "outputs": [],
   "source": [
    "st = pd.read_csv(\"HistoricalQuotes.csv\")\n",
    "#st.set_value(0, 'date', \"2018/01/19\")"
   ]
  },
  {
   "cell_type": "code",
   "execution_count": 86,
   "metadata": {},
   "outputs": [],
   "source": [
    "st[\"date\"] = pd.to_datetime(st[\"date\"])\n"
   ]
  },
  {
   "cell_type": "code",
   "execution_count": null,
   "metadata": {},
   "outputs": [],
   "source": []
  },
  {
   "cell_type": "code",
   "execution_count": 83,
   "metadata": {},
   "outputs": [],
   "source": [
    "change = []\n",
    "for x in range(len(st)-1):\n",
    "    hrs_apart = (st['close'][x] - st['close'][x+1])\n",
    "    change.append(hrs_apart)"
   ]
  },
  {
   "cell_type": "code",
   "execution_count": null,
   "metadata": {},
   "outputs": [],
   "source": []
  },
  {
   "cell_type": "code",
   "execution_count": 128,
   "metadata": {
    "scrolled": true
   },
   "outputs": [
    {
     "data": {
      "image/png": "[encoded data removed]",
      "text/plain": [
       "<matplotlib.figure.Figure at 0x1a1daf91d0>"
      ]
     },
     "metadata": {},
     "output_type": "display_data"
    }
   ],
   "source": [
    "plt.plot(change)\n",
    "#plt.xticks( st[\"date\"], change)\n",
    "plt.title(\"Starbucks Change in Price\")\n",
    "plt.ylabel(\"Price change\")\n",
    "plt.xlabel(\"Time\")\n",
    "plt.gcf().autofmt_xdate()\n",
    "plt.savefig('Star-Changeprice.png')\n",
    "\n",
    "plt.show()"
   ]
  },
  {
   "cell_type": "code",
   "execution_count": 127,
   "metadata": {
    "scrolled": true
   },
   "outputs": [
    {
     "data": {
      "image/png": "[encoded data removed]",
      "text/plain": [
       "<matplotlib.figure.Figure at 0x1a14e99dd8>"
      ]
     },
     "metadata": {},
     "output_type": "display_data"
    }
   ],
   "source": [
    "time_list3 = []\n",
    "compound = []\n",
    "for name in range(5):\n",
    "    mcd = api.search(\"Starbucks\", rpp=1000, count=1000)\n",
    "    for tweets in mcd['statuses']:\n",
    "        time_list3.append(tweets['created_at'])\n",
    "        tweet = tweets['text']\n",
    "        compound.append(analyzer.polarity_scores(tweet)[\"compound\"])\n",
    "    new_time_list = []\n",
    "for x in time_list3:\n",
    "    time = datetime.strptime(x, \"%a %b %d %H:%M:%S %z %Y\")\n",
    "#     print(time)\n",
    "    new_time_list.append(time)\n",
    "sns.set()\n",
    "plt.plot(new_time_list, compound)\n",
    "plt.title(\"Starbucks Sentimen\")\n",
    "plt.ylabel(\"Sentiment Score\")\n",
    "plt.xlabel(\"Time\")\n",
    "plt.gcf().autofmt_xdate()\n",
    "plt.savefig('Star-Change.png')\n",
    "\n",
    "plt.show()"
   ]
  },
  {
   "cell_type": "code",
   "execution_count": null,
   "metadata": {},
   "outputs": [],
   "source": []
  },
  {
   "cell_type": "code",
   "execution_count": null,
   "metadata": {
    "scrolled": true
   },
   "outputs": [],
   "source": []
  },
  {
   "cell_type": "code",
   "execution_count": null,
   "metadata": {
    "collapsed": true
   },
   "outputs": [],
   "source": []
  }
 ],
 "metadata": {
  "kernelspec": {
   "display_name": "Python 3",
   "language": "python",
   "name": "python3"
  },
  "language_info": {
   "codemirror_mode": {
    "name": "ipython",
    "version": 3
   },
   "file_extension": ".py",
   "mimetype": "text/x-python",
   "name": "python",
   "nbconvert_exporter": "python",
   "pygments_lexer": "ipython3",
   "version": "3.6.2"
  }
 },
 "nbformat": 4,
 "nbformat_minor": 2
}
